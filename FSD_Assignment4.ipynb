{
  "nbformat": 4,
  "nbformat_minor": 0,
  "metadata": {
    "colab": {
      "provenance": []
    },
    "kernelspec": {
      "name": "python3",
      "display_name": "Python 3"
    },
    "language_info": {
      "name": "python"
    }
  },
  "cells": [
    {
      "cell_type": "markdown",
      "source": [
        "1. List out the features of HTML5\n",
        "-->New elements, attributes, and behaviors; support for multimedia; better error handling.\n",
        "\n",
        "New tags like <article>, <aside>, <figure>.\n",
        "Enhanced forms with new input types.\n",
        "\n",
        "Built-in audio and video support with <audio> and <video>.\n",
        "\n",
        "Local storage for offline use.\n",
        "\n",
        "Graphics and animations with <canvas> and <svg>."
      ],
      "metadata": {
        "id": "UoMhLwPQoeTI"
      }
    },
    {
      "cell_type": "markdown",
      "source": [
        "2. What are HTML Entities? List out 5 commonly used HTML entities.\n",
        "-->HTML Entities:\n",
        "*Special codes to display reserved characters.\n",
        "*Help display symbols that have special meanings in\n",
        " HTML.\n",
        "*Ensure characters are rendered correctly.\n",
        "*Prevent HTML code from breaking.\n",
        "*Used to display invisible characters\n",
        "\n",
        "#COMMONLY USED ENTITIES:\n",
        "&amp; for &\n",
        "&lt; for <\n",
        "&gt; for >\n",
        "&quot; for \"\n",
        "&apos; for '\n",
        ""
      ],
      "metadata": {
        "id": "mKhH5dMso0NT"
      }
    },
    {
      "cell_type": "markdown",
      "source": [
        "3. Define accessibility in the context of web development. Discuss why it's essential to create accessible websites and how it benefits different user groups.\n",
        "\n",
        "#Accessibility:\n",
        "\n",
        " In the context of web development, accessibility refers to designing and building websites, applications, and digital tools in a way that ensures all users, including those with disabilities, can perceive, understand, navigate, and interact with the content effectively.\n",
        "\n",
        "#Why to Use Accessibility:\n",
        "\n",
        "Legal compliance (e.g., ADA, WCAG).\n",
        "Inclusivity and social responsibility.\n",
        "Expands audience reach.\n",
        "Improves SEO.\n",
        "Benefits all users, not just those with disabilities.\n",
        "\n",
        "#How Accessibility Benefits Different User Groups:\n",
        "\n",
        "\n",
        "User Group\tBenefit\n",
        "Users with visual impairments: Can use screen readers, keyboard navigation, and alternative text for images\n",
        "\n",
        "Users with hearing impairments:\tBenefit from captions, transcripts, and visual cues\n",
        "\n",
        "Users with motor disabilities:\tCan navigate using keyboard-only input or assistive technologies\n",
        "\n",
        "Users with cognitive disabilities:\tClear layout, plain language, and consistent navigation aid comprehension\n",
        "\n",
        "Elderly users:\tBenefit from larger text, simplified interactions, and accessible controls\n",
        "\n",
        "Mobile users / Situational impairments:\tAccessibility features improve usability in difficult conditions (e.g., glare, one-handed use)\n",
        "      "
      ],
      "metadata": {
        "id": "nX-A1iCop47P"
      }
    },
    {
      "cell_type": "markdown",
      "source": [
        "4. List any 3 ways which help us in improving the accessibility of HTML.\n",
        "--> Use semantic HTML tags.\n",
        "Provide alt text for images.\n",
        "Ensure keyboard navigability."
      ],
      "metadata": {
        "id": "8lW2JTuVrjMN"
      }
    },
    {
      "cell_type": "markdown",
      "source": [
        "5. Create a web page that highlights the features of HTML5. Use appropriate semantic tags to structure the content and showcase at least three key features of HTML5 with explanations."
      ],
      "metadata": {
        "id": "y_lCyr2asXhX"
      }
    },
    {
      "cell_type": "code",
      "source": [
        "<!DOCTYPE html>\n",
        "<html lang=\"en\">\n",
        "<head>\n",
        "  <meta charset=\"UTF-8\" />\n",
        "  <meta name=\"viewport\" content=\"width=device-width, initial-scale=1.0\"/>\n",
        "  <title>HTML5 Features</title>\n",
        "</head>\n",
        "<body>\n",
        "\n",
        "  <header>\n",
        "    <h1>Top Features of HTML5</h1>\n",
        "  </header>\n",
        "\n",
        "  <main>\n",
        "    <section>\n",
        "      <article>\n",
        "        <h2>1. Semantic Elements</h2>\n",
        "        <p>HTML5 introduces new semantic elements like <code>&lt;header&gt;</code>, <code>&lt;footer&gt;</code>, <code>&lt;article&gt;</code>, and <code>&lt;section&gt;</code>. These elements help define the structure of a webpage clearly and make it easier for screen readers and search engines to understand the content.</p>\n",
        "      </article>\n",
        "\n",
        "      <article>\n",
        "        <h2>2. Audio and Video Support</h2>\n",
        "        <p>HTML5 allows you to embed audio and video files directly into your web pages without needing extra plugins. Here's a video example:</p>\n",
        "        <video controls width=\"320\">\n",
        "          <source src=\"sample.mp4\" type=\"video/mp4\">\n",
        "          Your browser does not support the video tag.\n",
        "        </video>\n",
        "      </article>\n",
        "\n",
        "\n",
        "    </section>\n",
        "  </main>\n",
        "\n",
        "  <footer>\n",
        "    <p>&copy; 2025 HTML5 Feature Demo</p>\n",
        "  </footer>\n",
        "\n",
        "</body>\n",
        "</html>\n"
      ],
      "metadata": {
        "id": "fBl-Q7pnufMC"
      },
      "execution_count": null,
      "outputs": []
    },
    {
      "cell_type": "markdown",
      "source": [
        "6. <!DOCTYPE html>\n",
        "<html lang=\"en\">\n",
        "<head>\n",
        "  <meta charset=\"UTF-8\">\n",
        "  <title>HTML vs HTML5</title>\n",
        "</head>\n",
        "<body>\n",
        "\n",
        "  <h1>Differences Between HTML and HTML5</h1>\n",
        "\n",
        "  <table border=\"1\">\n",
        "    <thead>\n",
        "      <tr>\n",
        "        <th>HTML</th>\n",
        "        <th>HTML5</th>\n",
        "      </tr>\n",
        "    </thead>\n",
        "    <tbody>\n",
        "      <tr>\n",
        "        <td>Does not support audio and video tags.</td>\n",
        "        <td>Supports native audio and video embedding using </td>\n",
        "      </tr>\n",
        "      <tr>\n",
        "        <td>Uses generic elements like</td>\n",
        "        <td>Introduces semantic elements like </td>\n",
        "      </tr>\n",
        "      <tr>\n",
        "        <td>Relies on external plugins like Flash for multimedia.</td>\n",
        "        <td>Eliminates the need for plugins with built-in multimedia support.</td>\n",
        "      </tr>\n",
        "    </tbody>\n",
        "  </table>\n",
        "\n",
        "</body>\n",
        "</html>\n"
      ],
      "metadata": {
        "id": "vVYX0xrev2i3"
      }
    }
  ]
}